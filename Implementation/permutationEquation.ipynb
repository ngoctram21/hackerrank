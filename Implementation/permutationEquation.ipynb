{
 "cells": [
  {
   "cell_type": "markdown",
   "metadata": {},
   "source": [
    "Given a sequence of $n$ integers, $p(1), p(2), \\ldots, p(n)$ where each element is distinct and satisfies $1 \\leq p(x) \\leq n$. For each $x$ where $1 \\leq x \\leq n$, find any integer $y$ such that $p(p(y)) \\equiv x$ and print the value of $y$ on a new line.\n",
    "For example, assume the sequence $p=[5,2,1,3,4]$. Each value of $x$ between 1 and 5 , the length of the sequence, is\n",
    "analyzed as follows:\n",
    "1. $x=1 \\equiv p[3], p[4]=3,$ so $p[p[4]]=1$\n",
    "2. $x=2 \\equiv p[2], p[2]=2,$ so $p[p[2]]=2$\n",
    "3. $x=3 \\equiv p[4], p[5]=4,$ so $p[p[5]]=3$\n",
    "4. $x=4 \\equiv p[5], p[1]=5,$ so $p[p[1]]=4$\n",
    "5. $x=5 \\equiv p[1], p[3]=1,$ so $p[p[3]]=5$\n",
    "\n",
    "The values for $y$ are [4,2,5,1,3] ."
   ]
  },
  {
   "cell_type": "code",
   "execution_count": 1,
   "metadata": {},
   "outputs": [],
   "source": [
    "import math\n",
    "import os\n",
    "import random\n",
    "import re\n",
    "import sys"
   ]
  },
  {
   "cell_type": "code",
   "execution_count": 2,
   "metadata": {},
   "outputs": [],
   "source": [
    "# Complete the permutationEquation function below.\n",
    "def permutationEquation(p):\n",
    "    res = []\n",
    "    for i in range(1,len(p)+1):\n",
    "        index_i = p.index(i)+1\n",
    "        res.append(p.index(index_i) +1)\n",
    "    return res"
   ]
  },
  {
   "cell_type": "code",
   "execution_count": null,
   "metadata": {},
   "outputs": [],
   "source": []
  }
 ],
 "metadata": {
  "kernelspec": {
   "display_name": "faceidmatch",
   "language": "python",
   "name": "faceidmatch"
  },
  "language_info": {
   "codemirror_mode": {
    "name": "ipython",
    "version": 3
   },
   "file_extension": ".py",
   "mimetype": "text/x-python",
   "name": "python",
   "nbconvert_exporter": "python",
   "pygments_lexer": "ipython3",
   "version": "3.7.0"
  }
 },
 "nbformat": 4,
 "nbformat_minor": 4
}
