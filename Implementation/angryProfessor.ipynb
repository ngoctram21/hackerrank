{
 "cells": [
  {
   "cell_type": "markdown",
   "metadata": {},
   "source": [
    "A Discrete Mathematics professor has a class of students. Frustrated with their lack of discipline, the professor decides to\n",
    "cancel class if fewer than some number of students are present when class starts. Arrival times go from on time\n",
    "arrivalTime $\\leq 0$ ) to arrived late $($ arrivalTime $>0)$\n",
    "\n",
    "Given the arrival time of each student and a threshhold number of attendees, determine if the class is cancelled."
   ]
  },
  {
   "cell_type": "markdown",
   "metadata": {},
   "source": [
    "angryProfessor has the following parameter(s):\n",
    "- int k: the threshold number of students\n",
    "- int a[n]: the arrival times of the $n$ students"
   ]
  },
  {
   "cell_type": "code",
   "execution_count": 1,
   "metadata": {},
   "outputs": [],
   "source": [
    "import math\n",
    "import os\n",
    "import random\n",
    "import re\n",
    "import sys"
   ]
  },
  {
   "cell_type": "code",
   "execution_count": 3,
   "metadata": {},
   "outputs": [],
   "source": [
    "# Complete the angryProfessor function below.\n",
    "\n",
    "def angryProfessor(k, a):\n",
    "    count = sum([a[i] <= 0 for i in range(len(a))])\n",
    "    if count >= k:\n",
    "        return 'NO'\n",
    "    else:\n",
    "        return 'YES'"
   ]
  },
  {
   "cell_type": "code",
   "execution_count": 4,
   "metadata": {},
   "outputs": [
    {
     "data": {
      "text/plain": [
       "'YES'"
      ]
     },
     "execution_count": 4,
     "metadata": {},
     "output_type": "execute_result"
    }
   ],
   "source": [
    "angryProfessor(3, [-1,-3,4,2])"
   ]
  },
  {
   "cell_type": "code",
   "execution_count": null,
   "metadata": {},
   "outputs": [],
   "source": []
  }
 ],
 "metadata": {
  "kernelspec": {
   "display_name": "faceidmatch",
   "language": "python",
   "name": "faceidmatch"
  },
  "language_info": {
   "codemirror_mode": {
    "name": "ipython",
    "version": 3
   },
   "file_extension": ".py",
   "mimetype": "text/x-python",
   "name": "python",
   "nbconvert_exporter": "python",
   "pygments_lexer": "ipython3",
   "version": "3.7.0"
  }
 },
 "nbformat": 4,
 "nbformat_minor": 4
}
