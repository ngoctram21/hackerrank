{
 "cells": [
  {
   "cell_type": "markdown",
   "metadata": {},
   "source": [
    "There is a list of 26 character heights aligned by index to their letters. For example, 'a' is at index 0 and 'z' is at index 25 . There\n",
    "will also be a string. Using the letter heights given, determine the area of the rectangle highlight in $m m^{2}$ assuming all letters\n",
    "are $1 \\mathrm{~mm}$ wide."
   ]
  },
  {
   "cell_type": "code",
   "execution_count": 1,
   "metadata": {},
   "outputs": [],
   "source": [
    "import math\n",
    "import os\n",
    "import random\n",
    "import re\n",
    "import sys"
   ]
  },
  {
   "cell_type": "code",
   "execution_count": 2,
   "metadata": {},
   "outputs": [],
   "source": [
    "# Complete the designerPdfViewer function below.\n",
    "def designerPdfViewer(h, word):\n",
    "    n_word = len(word)\n",
    "    list_char_height = []\n",
    "    for char in word:\n",
    "        ## Compute the index of character 'char' base on \"https://realpython.com/python-encodings-guide/\"\n",
    "        char_ind = ord(char) - 97   \n",
    "        list_char_height.append(h[char_ind])\n",
    "    max_height = max(list_char_height)\n",
    "    selected_area = n_word * max_height\n",
    "    return selected_area"
   ]
  },
  {
   "cell_type": "code",
   "execution_count": null,
   "metadata": {},
   "outputs": [],
   "source": []
  }
 ],
 "metadata": {
  "kernelspec": {
   "display_name": "faceidmatch",
   "language": "python",
   "name": "faceidmatch"
  },
  "language_info": {
   "codemirror_mode": {
    "name": "ipython",
    "version": 3
   },
   "file_extension": ".py",
   "mimetype": "text/x-python",
   "name": "python",
   "nbconvert_exporter": "python",
   "pygments_lexer": "ipython3",
   "version": "3.7.0"
  }
 },
 "nbformat": 4,
 "nbformat_minor": 4
}
