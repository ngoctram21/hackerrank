{
 "cells": [
  {
   "cell_type": "markdown",
   "metadata": {},
   "source": [
    "**marsExploration** has the following parameter(s):\n",
    "\n",
    "- string s: the string as received on Earth\n",
    "\n",
    "**Returns**\n",
    "\n",
    "- int: the number of letters changed during transmission"
   ]
  },
  {
   "cell_type": "code",
   "execution_count": 1,
   "metadata": {},
   "outputs": [],
   "source": [
    "import math\n",
    "import os\n",
    "import random\n",
    "import re\n",
    "import sys"
   ]
  },
  {
   "cell_type": "code",
   "execution_count": 2,
   "metadata": {},
   "outputs": [],
   "source": [
    "# Complete the marsExploration function below.\n",
    "def marsExploration(s):\n",
    "    mismatch = sum([s[i] != 'SOS'[i%3] for i in range(len(s))])\n",
    "    return mismatch"
   ]
  },
  {
   "cell_type": "code",
   "execution_count": null,
   "metadata": {},
   "outputs": [],
   "source": []
  }
 ],
 "metadata": {
  "kernelspec": {
   "display_name": "faceidmatch",
   "language": "python",
   "name": "faceidmatch"
  },
  "language_info": {
   "codemirror_mode": {
    "name": "ipython",
    "version": 3
   },
   "file_extension": ".py",
   "mimetype": "text/x-python",
   "name": "python",
   "nbconvert_exporter": "python",
   "pygments_lexer": "ipython3",
   "version": "3.7.0"
  }
 },
 "nbformat": 4,
 "nbformat_minor": 4
}
