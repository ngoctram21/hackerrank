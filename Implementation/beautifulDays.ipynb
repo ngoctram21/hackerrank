{
 "cells": [
  {
   "cell_type": "markdown",
   "metadata": {},
   "source": [
    "Given a range of numbered days, $[i \\ldots j]$ and a number $k$, determine the number of days in the range that are beautiful.\n",
    "Beautiful numbers are defined as numbers where $\\mid i$ -reverse $(i) \\mid$ is evenly divisible by $k$. If a day's value is a beautiful number,\n",
    "it is a beautiful day. Return the number of beautiful days in the range."
   ]
  },
  {
   "cell_type": "markdown",
   "metadata": {},
   "source": [
    "Find the number of beautiful days in a range of day."
   ]
  },
  {
   "cell_type": "code",
   "execution_count": 1,
   "metadata": {},
   "outputs": [],
   "source": [
    "import math\n",
    "import os\n",
    "import random\n",
    "import re\n",
    "import sys\n",
    "from collections import Counter"
   ]
  },
  {
   "cell_type": "code",
   "execution_count": 26,
   "metadata": {},
   "outputs": [],
   "source": [
    "def beautifulDays(i, j, k):\n",
    "    res = []\n",
    "    for n in range(i, j + 1):\n",
    "        ## Find the reverse number of n\n",
    "        tmp = n\n",
    "        n_rev = 0\n",
    "        while(tmp > 0): \n",
    "            a = tmp % 10\n",
    "            n_rev = n_rev * 10 + a \n",
    "            tmp = tmp // 10\n",
    "        ## Determine whether |n - reverse(n)| is divisible by k or not \n",
    "        decis = abs(n - n_rev)%k\n",
    "        if decis == 0:\n",
    "            res.append(1)\n",
    "        else:\n",
    "            res.append(0)\n",
    "    return Counter(res)[1]"
   ]
  },
  {
   "cell_type": "code",
   "execution_count": 27,
   "metadata": {},
   "outputs": [
    {
     "data": {
      "text/plain": [
       "2"
      ]
     },
     "execution_count": 27,
     "metadata": {},
     "output_type": "execute_result"
    }
   ],
   "source": [
    "beautifulDays(20,23,6)"
   ]
  },
  {
   "cell_type": "code",
   "execution_count": null,
   "metadata": {},
   "outputs": [],
   "source": []
  }
 ],
 "metadata": {
  "kernelspec": {
   "display_name": "faceidmatch",
   "language": "python",
   "name": "faceidmatch"
  },
  "language_info": {
   "codemirror_mode": {
    "name": "ipython",
    "version": 3
   },
   "file_extension": ".py",
   "mimetype": "text/x-python",
   "name": "python",
   "nbconvert_exporter": "python",
   "pygments_lexer": "ipython3",
   "version": "3.7.0"
  }
 },
 "nbformat": 4,
 "nbformat_minor": 4
}
