{
 "cells": [
  {
   "cell_type": "markdown",
   "metadata": {},
   "source": [
    "A pangram is a string that contains every letter of the alphabet. \n",
    "\n",
    "**Input**\n",
    "* String s\n",
    "\n",
    "**Output**\n",
    "* `pangram` if s is a pangram\n",
    "* `not pang"
   ]
  }
 ],
 "metadata": {
  "kernelspec": {
   "display_name": "Python 3",
   "language": "python",
   "name": "python3"
  },
  "language_info": {
   "codemirror_mode": {
    "name": "ipython",
    "version": 3
   },
   "file_extension": ".py",
   "mimetype": "text/x-python",
   "name": "python",
   "nbconvert_exporter": "python",
   "pygments_lexer": "ipython3",
   "version": "3.7.0"
  }
 },
 "nbformat": 4,
 "nbformat_minor": 4
}
