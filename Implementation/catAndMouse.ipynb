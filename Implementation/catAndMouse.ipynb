{
 "cells": [
  {
   "cell_type": "markdown",
   "metadata": {},
   "source": [
    "Two cats and a mouse are at various positions on a line. You will be given their starting positions. Your task is to determine which cat will reach the mouse first, assuming the mouse does not move and the cats travel at equal speed. If the cats arrive at the same time, the mouse will be allowed to move and it will escape while they fight.\n",
    "\n",
    "\n",
    "Given $q$ queries in the form of $x$, $y$ and $z$ representing the respective positions for cats $A$ and $B$, and for mouse $C$. \n",
    "\n",
    "Return the appropriate answer to each query, which will be printed on a new line:\n",
    "\n",
    "- If cat $A$ catches the mouse first, print `Cat A`.\n",
    "- If cat $B$ catches the mouse first, print `Cat B`.\n",
    "- If both cats reach the mouse at the same time, print `Mouse C` as the two cats fight and mouse escapes.\n"
   ]
  },
  {
   "cell_type": "code",
   "execution_count": 1,
   "metadata": {},
   "outputs": [],
   "source": [
    "import math\n",
    "import os\n",
    "import random\n",
    "import re\n",
    "import sys"
   ]
  },
  {
   "cell_type": "code",
   "execution_count": 2,
   "metadata": {},
   "outputs": [],
   "source": [
    "# Complete the catAndMouse function below.\n",
    "def catAndMouse(x, y, z):\n",
    "    AC = abs(z-x)\n",
    "    BC = abs(z-y)\n",
    "    if  AC < BC:\n",
    "        return 'Cat A'\n",
    "    elif BC < AC:\n",
    "        return 'Cat B'\n",
    "    elif BC == AC:\n",
    "        return 'Mouse C'"
   ]
  },
  {
   "cell_type": "code",
   "execution_count": null,
   "metadata": {},
   "outputs": [],
   "source": []
  }
 ],
 "metadata": {
  "kernelspec": {
   "display_name": "faceidmatch",
   "language": "python",
   "name": "faceidmatch"
  },
  "language_info": {
   "codemirror_mode": {
    "name": "ipython",
    "version": 3
   },
   "file_extension": ".py",
   "mimetype": "text/x-python",
   "name": "python",
   "nbconvert_exporter": "python",
   "pygments_lexer": "ipython3",
   "version": "3.7.0"
  }
 },
 "nbformat": 4,
 "nbformat_minor": 4
}
